{
  "nbformat": 4,
  "nbformat_minor": 0,
  "metadata": {
    "colab": {
      "provenance": []
    },
    "kernelspec": {
      "name": "python3",
      "display_name": "Python 3"
    },
    "language_info": {
      "name": "python"
    }
  },
  "cells": [
    {
      "cell_type": "code",
      "source": [
        "!unzip /content/cross_road_both_labels-2.zip"
      ],
      "metadata": {
        "id": "LGX7jvQ-Tqjf"
      },
      "execution_count": null,
      "outputs": []
    },
    {
      "cell_type": "code",
      "source": [
        "!rm -rf content"
      ],
      "metadata": {
        "id": "cJwchgxVUqNp"
      },
      "execution_count": 6,
      "outputs": []
    },
    {
      "cell_type": "code",
      "execution_count": 8,
      "metadata": {
        "colab": {
          "base_uri": "https://localhost:8080/"
        },
        "id": "24PuXGL7ToP7",
        "outputId": "e0d81231-1b83-4647-b513-d32c54025fc1"
      },
      "outputs": [
        {
          "name": "stdout",
          "output_type": "stream",
          "text": [
            "Enter the replacement number: 85\n"
          ]
        }
      ],
      "source": [
        "import os\n",
        "\n",
        "def change_first_number_in_folder(input_folder, output_folder, replacement_number):\n",
        "    # Ensure the replacement number is valid\n",
        "    if not isinstance(replacement_number, (int, float)):\n",
        "        print(\"Invalid replacement number. Please enter a valid number.\")\n",
        "        return\n",
        "\n",
        "    # Ensure the output folder exists, create if not\n",
        "    if not os.path.exists(output_folder):\n",
        "        os.makedirs(output_folder)\n",
        "\n",
        "    # Iterate through all files in the input folder\n",
        "    for filename in os.listdir(input_folder):\n",
        "        input_filepath = os.path.join(input_folder, filename)\n",
        "\n",
        "        # Skip if it's not a text file\n",
        "        if not filename.endswith('.txt'):\n",
        "            continue\n",
        "\n",
        "        output_filepath = os.path.join(output_folder, f\"{filename}\")\n",
        "\n",
        "        change_first_number(input_filepath, output_filepath, replacement_number)\n",
        "\n",
        "def change_first_number(input_file, output_file, replacement_number):\n",
        "    with open(input_file, 'r') as infile:\n",
        "        lines = infile.readlines()\n",
        "\n",
        "    modified_lines = []\n",
        "    for line in lines:\n",
        "        parts = line.split()\n",
        "        if parts and parts[0].isdigit():\n",
        "            parts[0] = str(replacement_number)  # Replace the first number with user input\n",
        "        modified_lines.append(' '.join(parts) + '\\n')\n",
        "\n",
        "    with open(output_file, 'w') as outfile:\n",
        "        outfile.writelines(modified_lines)\n",
        "\n",
        "# Example usage\n",
        "input_foldername = '/content/content/hospital_labels-3'  # Replace with your input folder name\n",
        "output_foldername = 'traffic_sign_crossroad'  # Replace with your output folder name\n",
        "replacement_number = int(input(\"Enter the replacement number: \"))  # Accepts float or int\n",
        "\n",
        "change_first_number_in_folder(input_foldername, output_foldername, replacement_number)\n"
      ]
    },
    {
      "cell_type": "code",
      "source": [
        "!zip -r traffic_sign_crossroad /content/traffic_sign_crossroad"
      ],
      "metadata": {
        "id": "BV29WoJ0WXqk",
        "colab": {
          "base_uri": "https://localhost:8080/"
        },
        "outputId": "4ada220d-b95f-4a87-8adb-0381fb24f261"
      },
      "execution_count": 9,
      "outputs": [
        {
          "output_type": "stream",
          "name": "stdout",
          "text": [
            "  adding: content/traffic_sign_crossroad/ (stored 0%)\n",
            "  adding: content/traffic_sign_crossroad/313.txt (deflated 83%)\n",
            "  adding: content/traffic_sign_crossroad/258.txt (deflated 83%)\n",
            "  adding: content/traffic_sign_crossroad/172.txt (deflated 83%)\n",
            "  adding: content/traffic_sign_crossroad/255.txt (deflated 83%)\n",
            "  adding: content/traffic_sign_crossroad/405.txt (deflated 83%)\n",
            "  adding: content/traffic_sign_crossroad/240.txt (deflated 83%)\n",
            "  adding: content/traffic_sign_crossroad/249.txt (deflated 83%)\n",
            "  adding: content/traffic_sign_crossroad/396.txt (deflated 83%)\n",
            "  adding: content/traffic_sign_crossroad/132.txt (deflated 83%)\n",
            "  adding: content/traffic_sign_crossroad/368.txt (deflated 83%)\n",
            "  adding: content/traffic_sign_crossroad/374.txt (deflated 83%)\n",
            "  adding: content/traffic_sign_crossroad/184.txt (deflated 83%)\n",
            "  adding: content/traffic_sign_crossroad/193.txt (deflated 83%)\n",
            "  adding: content/traffic_sign_crossroad/221.txt (deflated 83%)\n",
            "  adding: content/traffic_sign_crossroad/246.txt (deflated 83%)\n",
            "  adding: content/traffic_sign_crossroad/393.txt (deflated 83%)\n",
            "  adding: content/traffic_sign_crossroad/387.txt (deflated 83%)\n",
            "  adding: content/traffic_sign_crossroad/203.txt (deflated 83%)\n",
            "  adding: content/traffic_sign_crossroad/144.txt (deflated 83%)\n",
            "  adding: content/traffic_sign_crossroad/332.txt (deflated 83%)\n",
            "  adding: content/traffic_sign_crossroad/166.txt (deflated 83%)\n",
            "  adding: content/traffic_sign_crossroad/341.txt (deflated 83%)\n",
            "  adding: content/traffic_sign_crossroad/237.txt (deflated 83%)\n",
            "  adding: content/traffic_sign_crossroad/141.txt (deflated 83%)\n",
            "  adding: content/traffic_sign_crossroad/218.txt (deflated 83%)\n",
            "  adding: content/traffic_sign_crossroad/359.txt (deflated 83%)\n",
            "  adding: content/traffic_sign_crossroad/175.txt (deflated 83%)\n",
            "  adding: content/traffic_sign_crossroad/227.txt (deflated 83%)\n",
            "  adding: content/traffic_sign_crossroad/276.txt (deflated 83%)\n",
            "  adding: content/traffic_sign_crossroad/190.txt (deflated 82%)\n",
            "  adding: content/traffic_sign_crossroad/350.txt (deflated 83%)\n",
            "  adding: content/traffic_sign_crossroad/286.txt (deflated 83%)\n",
            "  adding: content/traffic_sign_crossroad/319.txt (deflated 83%)\n",
            "  adding: content/traffic_sign_crossroad/163.txt (deflated 83%)\n",
            "  adding: content/traffic_sign_crossroad/378.txt (deflated 83%)\n",
            "  adding: content/traffic_sign_crossroad/154.txt (deflated 83%)\n",
            "  adding: content/traffic_sign_crossroad/347.txt (deflated 83%)\n",
            "  adding: content/traffic_sign_crossroad/264.txt (deflated 83%)\n",
            "  adding: content/traffic_sign_crossroad/157.txt (deflated 83%)\n",
            "  adding: content/traffic_sign_crossroad/338.txt (deflated 83%)\n",
            "  adding: content/traffic_sign_crossroad/356.txt (deflated 83%)\n",
            "  adding: content/traffic_sign_crossroad/322.txt (deflated 83%)\n",
            "  adding: content/traffic_sign_crossroad/310.txt (deflated 83%)\n",
            "  adding: content/traffic_sign_crossroad/283.txt (deflated 83%)\n"
          ]
        }
      ]
    }
  ]
}