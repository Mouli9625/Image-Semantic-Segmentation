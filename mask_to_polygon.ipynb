{
  "cells": [
    {
      "cell_type": "code",
      "execution_count": null,
      "metadata": {
        "id": "-XfvyzPCO6Gx"
      },
      "outputs": [],
      "source": [
        "!unzip /content/SegmentationClass-1.zip"
      ]
    },
    {
      "cell_type": "code",
      "execution_count": null,
      "metadata": {
        "id": "o_l2zGWaPO1a"
      },
      "outputs": [],
      "source": [
        "!mkdir /content/hospital_labels-1"
      ]
    },
    {
      "cell_type": "code",
      "execution_count": null,
      "metadata": {
        "id": "ByjbN1-oCYqe"
      },
      "outputs": [],
      "source": [
        "import os\n",
        "\n",
        "import cv2\n",
        "\n",
        "\n",
        "input_dir = '/content/SegmentationClass-1'\n",
        "output_dir = '/content/hospital_labels-1'\n",
        "\n",
        "for j in os.listdir(input_dir):\n",
        "    image_path = os.path.join(input_dir, j)\n",
        "    # load the binary mask and get its contours\n",
        "    mask = cv2.imread(image_path, cv2.IMREAD_GRAYSCALE)\n",
        "    _, mask = cv2.threshold(mask, 1, 255, cv2.THRESH_BINARY)\n",
        "\n",
        "    H, W = mask.shape\n",
        "    contours, hierarchy = cv2.findContours(mask, cv2.RETR_EXTERNAL, cv2.CHAIN_APPROX_SIMPLE)\n",
        "\n",
        "    # convert the contours to polygons\n",
        "    polygons = []\n",
        "    for cnt in contours:\n",
        "        if cv2.contourArea(cnt) > 200:\n",
        "            polygon = []\n",
        "            for point in cnt:\n",
        "                x, y = point[0]\n",
        "                polygon.append(x / W)\n",
        "                polygon.append(y / H)\n",
        "            polygons.append(polygon)\n",
        "\n",
        "    # print the polygons\n",
        "    with open('{}.txt'.format(os.path.join(output_dir, j)[:-4]), 'w') as f:\n",
        "        for polygon in polygons:\n",
        "            for p_, p in enumerate(polygon):\n",
        "                if p_ == len(polygon) - 1:\n",
        "                    f.write('{}\\n'.format(p))\n",
        "                elif p_ == 0:\n",
        "                    f.write('0 {} '.format(p))\n",
        "                else:\n",
        "                    f.write('{} '.format(p))\n",
        "\n",
        "        f.close()\n"
      ]
    },
    {
      "cell_type": "code",
      "execution_count": null,
      "metadata": {
        "id": "xzR3bbfIDBnq",
        "colab": {
          "base_uri": "https://localhost:8080/"
        },
        "outputId": "7684f666-2c75-4bf7-99c8-11b493790922"
      },
      "outputs": [
        {
          "output_type": "stream",
          "name": "stdout",
          "text": [
            "  adding: content/hospital_labels-1/ (stored 0%)\n",
            "  adding: content/hospital_labels-1/258.txt (deflated 82%)\n",
            "  adding: content/hospital_labels-1/172.txt (deflated 82%)\n",
            "  adding: content/hospital_labels-1/354.txt (deflated 82%)\n",
            "  adding: content/hospital_labels-1/230.txt (deflated 83%)\n",
            "  adding: content/hospital_labels-1/240.txt (deflated 82%)\n",
            "  adding: content/hospital_labels-1/196.txt (deflated 83%)\n",
            "  adding: content/hospital_labels-1/429.txt (deflated 82%)\n",
            "  adding: content/hospital_labels-1/249.txt (deflated 82%)\n",
            "  adding: content/hospital_labels-1/132.txt (deflated 82%)\n",
            "  adding: content/hospital_labels-1/500.txt (deflated 83%)\n",
            "  adding: content/hospital_labels-1/184.txt (deflated 82%)\n",
            "  adding: content/hospital_labels-1/117.txt (deflated 82%)\n",
            "  adding: content/hospital_labels-1/221.txt (deflated 82%)\n",
            "  adding: content/hospital_labels-1/329.txt (deflated 83%)\n",
            "  adding: content/hospital_labels-1/144.txt (deflated 82%)\n",
            "  adding: content/hospital_labels-1/332.txt (deflated 82%)\n",
            "  adding: content/hospital_labels-1/267.txt (deflated 82%)\n",
            "  adding: content/hospital_labels-1/252.txt (deflated 81%)\n",
            "  adding: content/hospital_labels-1/92.txt (deflated 81%)\n",
            "  adding: content/hospital_labels-1/341.txt (deflated 82%)\n",
            "  adding: content/hospital_labels-1/237.txt (deflated 82%)\n",
            "  adding: content/hospital_labels-1/76.txt (deflated 83%)\n",
            "  adding: content/hospital_labels-1/432.txt (deflated 83%)\n",
            "  adding: content/hospital_labels-1/141.txt (deflated 82%)\n",
            "  adding: content/hospital_labels-1/218.txt (deflated 82%)\n",
            "  adding: content/hospital_labels-1/375.txt (deflated 83%)\n",
            "  adding: content/hospital_labels-1/175.txt (deflated 82%)\n",
            "  adding: content/hospital_labels-1/227.txt (deflated 82%)\n",
            "  adding: content/hospital_labels-1/276.txt (deflated 82%)\n",
            "  adding: content/hospital_labels-1/190.txt (deflated 82%)\n",
            "  adding: content/hospital_labels-1/25.txt (deflated 83%)\n",
            "  adding: content/hospital_labels-1/319.txt (deflated 82%)\n",
            "  adding: content/hospital_labels-1/163.txt (deflated 82%)\n",
            "  adding: content/hospital_labels-1/27.txt (deflated 83%)\n",
            "  adding: content/hospital_labels-1/13.txt (deflated 82%)\n",
            "  adding: content/hospital_labels-1/120.txt (deflated 82%)\n",
            "  adding: content/hospital_labels-1/449.txt (deflated 83%)\n",
            "  adding: content/hospital_labels-1/88.txt (deflated 82%)\n",
            "  adding: content/hospital_labels-1/43.txt (deflated 83%)\n",
            "  adding: content/hospital_labels-1/264.txt (deflated 82%)\n",
            "  adding: content/hospital_labels-1/348.txt (deflated 82%)\n",
            "  adding: content/hospital_labels-1/157.txt (deflated 82%)\n",
            "  adding: content/hospital_labels-1/22.txt (deflated 82%)\n",
            "  adding: content/hospital_labels-1/338.txt (deflated 82%)\n",
            "  adding: content/hospital_labels-1/356.txt (deflated 82%)\n",
            "  adding: content/hospital_labels-1/447.txt (deflated 82%)\n",
            "  adding: content/hospital_labels-1/417.txt (deflated 83%)\n",
            "  adding: content/hospital_labels-1/283.txt (deflated 82%)\n"
          ]
        }
      ],
      "source": [
        "!zip -r cross_road_trafficsign_labels-1 /content/hospital_labels-1"
      ]
    },
    {
      "cell_type": "code",
      "execution_count": null,
      "metadata": {
        "id": "R-p7nWYSDI9C"
      },
      "outputs": [],
      "source": []
    }
  ],
  "metadata": {
    "colab": {
      "provenance": []
    },
    "kernelspec": {
      "display_name": "Python 3",
      "name": "python3"
    },
    "language_info": {
      "name": "python"
    }
  },
  "nbformat": 4,
  "nbformat_minor": 0
}