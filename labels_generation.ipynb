{
  "cells": [
    {
      "cell_type": "code",
      "execution_count": null,
      "metadata": {
        "id": "belB4wJ_NuiM"
      },
      "outputs": [],
      "source": [
        "!rm -rf /content/SegmentationClass"
      ]
    },
    {
      "cell_type": "code",
      "execution_count": null,
      "metadata": {
        "id": "FyONFoRSMJ_l"
      },
      "outputs": [],
      "source": [
        "!unzip /content/SegmentationClass.zip"
      ]
    },
    {
      "cell_type": "code",
      "execution_count": 5,
      "metadata": {
        "id": "584jBtJaMqGa"
      },
      "outputs": [],
      "source": [
        "!mkdir val-yjunction-tra"
      ]
    },
    {
      "cell_type": "code",
      "execution_count": 6,
      "metadata": {
        "id": "xT50H7dRZOKc"
      },
      "outputs": [],
      "source": [
        "import os\n",
        "\n",
        "import cv2\n",
        "\n",
        "\n",
        "input_dir = 'C:/Users/MOULI/Music/new-dataset-techgium/val/Y-Junction/tra'\n",
        "output_dir = 'val-yjunction-tra'\n",
        "\n",
        "for j in os.listdir(input_dir):\n",
        "    image_path = os.path.join(input_dir, j)\n",
        "    # load the binary mask and get its contours\n",
        "    mask = cv2.imread(image_path, cv2.IMREAD_GRAYSCALE)\n",
        "    _, mask = cv2.threshold(mask, 1, 255, cv2.THRESH_BINARY)\n",
        "\n",
        "    H, W = mask.shape\n",
        "    contours, hierarchy = cv2.findContours(mask, cv2.RETR_EXTERNAL, cv2.CHAIN_APPROX_SIMPLE)\n",
        "\n",
        "    # convert the contours to polygons\n",
        "    polygons = []\n",
        "    for cnt in contours:\n",
        "        if cv2.contourArea(cnt) > 200:\n",
        "            polygon = []\n",
        "            for point in cnt:\n",
        "                x, y = point[0]\n",
        "                polygon.append(x / W)\n",
        "                polygon.append(y / H)\n",
        "            polygons.append(polygon)\n",
        "\n",
        "    # print the polygons\n",
        "    with open('{}.txt'.format(os.path.join(output_dir, j)[:-4]), 'w') as f:\n",
        "        for polygon in polygons:\n",
        "            for p_, p in enumerate(polygon):\n",
        "                if p_ == len(polygon) - 1:\n",
        "                    f.write('{}\\n'.format(p))\n",
        "                elif p_ == 0:\n",
        "                    f.write('0 {} '.format(p))\n",
        "                else:\n",
        "                    f.write('{} '.format(p))\n",
        "\n",
        "        f.close()\n"
      ]
    },
    {
      "cell_type": "code",
      "execution_count": 7,
      "metadata": {
        "id": "hGAxQWa5NBJQ"
      },
      "outputs": [],
      "source": [
        "!mkdir val-yjunction-tra-labels"
      ]
    },
    {
      "cell_type": "code",
      "execution_count": 8,
      "metadata": {
        "colab": {
          "base_uri": "https://localhost:8080/"
        },
        "id": "QQddzDgwZxp8",
        "outputId": "29385b6f-87f0-4dba-deec-22462f49f5c8"
      },
      "outputs": [],
      "source": [
        "import os\n",
        "\n",
        "def change_first_number_in_folder(input_folder, output_folder, replacement_number):\n",
        "    # Ensure the replacement number is valid\n",
        "    if not isinstance(replacement_number, (int, float)):\n",
        "        print(\"Invalid replacement number. Please enter a valid number.\")\n",
        "        return\n",
        "\n",
        "    # Ensure the output folder exists, create if not\n",
        "    if not os.path.exists(output_folder):\n",
        "        os.makedirs(output_folder)\n",
        "\n",
        "    # Iterate through all files in the input folder\n",
        "    for filename in os.listdir(input_folder):\n",
        "        input_filepath = os.path.join(input_folder, filename)\n",
        "\n",
        "        # Skip if it's not a text file\n",
        "        if not filename.endswith('.txt'):\n",
        "            continue\n",
        "\n",
        "        output_filepath = os.path.join(output_folder, f\"{filename}\")\n",
        "\n",
        "        change_first_number(input_filepath, output_filepath, replacement_number)\n",
        "\n",
        "def change_first_number(input_file, output_file, replacement_number):\n",
        "    with open(input_file, 'r') as infile:\n",
        "        lines = infile.readlines()\n",
        "\n",
        "    modified_lines = []\n",
        "    for line in lines:\n",
        "        parts = line.split()\n",
        "        if parts and parts[0].isdigit():\n",
        "            parts[0] = str(replacement_number)  # Replace the first number with user input\n",
        "        modified_lines.append(' '.join(parts) + '\\n')\n",
        "\n",
        "    with open(output_file, 'w') as outfile:\n",
        "        outfile.writelines(modified_lines)\n",
        "\n",
        "# Example usage\n",
        "input_foldername = 'val-yjunction-tra'  # Replace with your input folder name\n",
        "output_foldername = 'val-yjunction-tra-labels'  # Replace with your output folder name\n",
        "replacement_number = int(input(\"Enter the replacement number: \"))  # Accepts float or int\n",
        "\n",
        "change_first_number_in_folder(input_foldername, output_foldername, replacement_number)\n"
      ]
    },
    {
      "cell_type": "code",
      "execution_count": null,
      "metadata": {
        "id": "tvP1SImtNjdh"
      },
      "outputs": [],
      "source": [
        "!zip -r train-lanes-0-labels /content/train-lanes-0-labels"
      ]
    }
  ],
  "metadata": {
    "colab": {
      "provenance": []
    },
    "kernelspec": {
      "display_name": "Python 3",
      "name": "python3"
    },
    "language_info": {
      "codemirror_mode": {
        "name": "ipython",
        "version": 3
      },
      "file_extension": ".py",
      "mimetype": "text/x-python",
      "name": "python",
      "nbconvert_exporter": "python",
      "pygments_lexer": "ipython3",
      "version": "3.11.2"
    }
  },
  "nbformat": 4,
  "nbformat_minor": 0
}
