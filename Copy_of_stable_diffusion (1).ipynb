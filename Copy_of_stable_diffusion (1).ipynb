{
  "nbformat": 4,
  "nbformat_minor": 0,
  "metadata": {
    "colab": {
      "private_outputs": true,
      "provenance": [],
      "gpuType": "T4"
    },
    "kernelspec": {
      "name": "python3",
      "display_name": "Python 3"
    },
    "language_info": {
      "name": "python"
    },
    "accelerator": "GPU"
  },
  "cells": [
    {
      "cell_type": "code",
      "source": [
        "%pip install --quiet --upgrade diffusers transformers accelerate mediapy"
      ],
      "metadata": {
        "id": "ufD_d64nr08H"
      },
      "execution_count": null,
      "outputs": []
    },
    {
      "cell_type": "code",
      "source": [
        "import mediapy as media\n",
        "import random\n",
        "import sys\n",
        "import torch\n",
        "\n",
        "from diffusers import AutoPipelineForText2Image\n",
        "\n",
        "pipe = AutoPipelineForText2Image.from_pretrained(\n",
        "    \"stabilityai/sdxl-turbo\",\n",
        "    torch_dtype=torch.float16,\n",
        "    use_safetensors=True,\n",
        "    variant=\"fp16\",\n",
        "    )\n",
        "\n",
        "pipe = pipe.to(\"cuda\")"
      ],
      "metadata": {
        "id": "bG2hkmSEvByV"
      },
      "execution_count": null,
      "outputs": []
    },
    {
      "cell_type": "code",
      "source": [
        "import os"
      ],
      "metadata": {
        "id": "lQcc2JaSaKAS"
      },
      "execution_count": null,
      "outputs": []
    },
    {
      "cell_type": "code",
      "source": [
        "!touch new-1.txt"
      ],
      "metadata": {
        "id": "MlvZPsU0Nt3S"
      },
      "execution_count": null,
      "outputs": []
    },
    {
      "cell_type": "code",
      "source": [
        "def remove_blank_lines(input_file, output_file):\n",
        "    with open(input_file, 'r') as infile, open(output_file, 'w') as outfile:\n",
        "        for line in infile:\n",
        "            if line.strip():  # Check if the line is not just whitespace\n",
        "                outfile.write(line)\n",
        "\n",
        "# Example usage:\n",
        "input_file_path = '/content/cross-road-0.txt'\n",
        "output_file_path = '/content/new-1.txt'\n",
        "\n",
        "remove_blank_lines(input_file_path, output_file_path)\n"
      ],
      "metadata": {
        "id": "WiJ20otgJQaH"
      },
      "execution_count": null,
      "outputs": []
    },
    {
      "cell_type": "code",
      "source": [
        "# Assuming you have a function 'save_image' to save the generated image\n",
        "def save_image(image, output_path):\n",
        "    image.save(output_path)\n",
        "\n",
        "input_file = \"/content/new-1.txt\"  # Replace with the path to your input file\n",
        "output_folder = \"/content/generated_images\"   # Replace with the desired output folder\n",
        "\n",
        "# Create the output folder if it doesn't exist\n",
        "os.makedirs(output_folder, exist_ok=True)\n",
        "\n",
        "num_inference_steps = 4\n",
        "seed = random.randint(0, sys.maxsize)\n",
        "\n",
        "# Read prompts from the input file\n",
        "with open(input_file, 'r') as file:\n",
        "    prompts = file.readlines()\n",
        "\n",
        "# Iterate through each prompt\n",
        "for i, prompt in enumerate(prompts):\n",
        "    prompt = prompt.strip()\n",
        "\n",
        "    # Generate images for the current prompt\n",
        "    images = pipe(\n",
        "        prompt=prompt,\n",
        "        guidance_scale=0.8,  # Adjust the guidance scale as needed\n",
        "        viewpoint_guidance=\"outside\",  # Add a parameter for viewpoint guidance\n",
        "        num_inference_steps=num_inference_steps,\n",
        "        generator=torch.Generator(\"cuda\").manual_seed(seed),\n",
        "    ).images\n",
        "\n",
        "    # Save the generated images in the output folder\n",
        "    for j, image in enumerate(images):\n",
        "        output_path = os.path.join(output_folder, f\"{i + 1}.jpg\")\n",
        "        save_image(image, output_path)\n",
        "\n",
        "    print(f\"Generated images for prompt {i + 1}\")\n",
        "\n",
        "print(\"All images generated and saved.\")\n"
      ],
      "metadata": {
        "id": "AUc4QJfE-uR9"
      },
      "execution_count": null,
      "outputs": []
    },
    {
      "cell_type": "code",
      "source": [
        "!zip -r cross_road-1 /content/generated_images\n"
      ],
      "metadata": {
        "id": "76uuAR770lwT"
      },
      "execution_count": null,
      "outputs": []
    },
    {
      "cell_type": "code",
      "source": [
        "from google.colab import files\n",
        "files.download('/content/y-junction-1.zip')"
      ],
      "metadata": {
        "id": "DnCHoslZtaSV"
      },
      "execution_count": null,
      "outputs": []
    }
  ]
}