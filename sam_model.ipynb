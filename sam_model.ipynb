{
  "cells": [
    {
      "cell_type": "code",
      "execution_count": null,
      "id": "271f9560",
      "metadata": {
        "colab": {
          "base_uri": "https://localhost:8080/"
        },
        "id": "271f9560",
        "outputId": "3b3c26e1-d774-40a3-99d8-f79769f75cf4"
      },
      "outputs": [
        {
          "name": "stdout",
          "output_type": "stream",
          "text": [
            "Python 3.10.12\n"
          ]
        }
      ],
      "source": [
        "!python --version"
      ]
    },
    {
      "cell_type": "code",
      "execution_count": null,
      "id": "ced06dc2",
      "metadata": {
        "colab": {
          "base_uri": "https://localhost:8080/",
          "height": 36
        },
        "id": "ced06dc2",
        "outputId": "547d3b9a-9d0b-40c4-cd5a-45e7d491b00e"
      },
      "outputs": [
        {
          "data": {
            "application/vnd.google.colaboratory.intrinsic+json": {
              "type": "string"
            },
            "text/plain": [
              "'2.2.1+cu121'"
            ]
          },
          "execution_count": 13,
          "metadata": {},
          "output_type": "execute_result"
        }
      ],
      "source": [
        "import torch\n",
        "torch.__version__"
      ]
    },
    {
      "cell_type": "code",
      "execution_count": null,
      "id": "06bb596f",
      "metadata": {
        "colab": {
          "base_uri": "https://localhost:8080/",
          "height": 36
        },
        "id": "06bb596f",
        "outputId": "e956d258-f463-4773-9717-9ae776183ec7"
      },
      "outputs": [
        {
          "data": {
            "application/vnd.google.colaboratory.intrinsic+json": {
              "type": "string"
            },
            "text/plain": [
              "'Tesla T4'"
            ]
          },
          "execution_count": 3,
          "metadata": {},
          "output_type": "execute_result"
        }
      ],
      "source": [
        "torch.cuda.get_device_name(0)"
      ]
    },
    {
      "cell_type": "code",
      "execution_count": null,
      "id": "VX4Zu2eT0zZf",
      "metadata": {
        "colab": {
          "base_uri": "https://localhost:8080/"
        },
        "id": "VX4Zu2eT0zZf",
        "outputId": "baa6b4b5-89a5-4462-a5b6-eb79e9cd0f7d"
      },
      "outputs": [
        {
          "name": "stdout",
          "output_type": "stream",
          "text": [
            "Successfully installed nvidia-cublas-cu12-12.1.3.1 nvidia-cuda-cupti-cu12-12.1.105 nvidia-cuda-nvrtc-cu12-12.1.105 nvidia-cuda-runtime-cu12-12.1.105 nvidia-cudnn-cu12-8.9.2.26 nvidia-cufft-cu12-11.0.2.54 nvidia-curand-cu12-10.3.2.106 nvidia-cusolver-cu12-11.4.5.107 nvidia-cusparse-cu12-12.1.0.106 nvidia-nccl-cu12-2.19.3 nvidia-nvjitlink-cu12-12.4.127 nvidia-nvtx-cu12-12.1.105 sentry-sdk-1.45.0 ultralytics-8.0.106\n"
          ]
        }
      ],
      "source": [
        "!pip install ultralytics==8.0.106"
      ]
    },
    {
      "cell_type": "code",
      "execution_count": null,
      "id": "kShYLsAtZ15h",
      "metadata": {
        "colab": {
          "base_uri": "https://localhost:8080/"
        },
        "id": "kShYLsAtZ15h",
        "outputId": "fed9220c-ba78-4042-b8ea-3044fb284275"
      },
      "outputs": [
        {
          "name": "stdout",
          "output_type": "stream",
          "text": [
            "Mounted at /content/drive\n"
          ]
        }
      ],
      "source": [
        "from google.colab import drive\n",
        "drive.mount('/content/drive')"
      ]
    },
    {
      "cell_type": "code",
      "execution_count": null,
      "id": "bb4684a5",
      "metadata": {
        "colab": {
          "base_uri": "https://localhost:8080/",
          "height": 36
        },
        "id": "bb4684a5",
        "outputId": "9864ee40-390d-4b75-ab0c-f99167136639"
      },
      "outputs": [
        {
          "data": {
            "application/vnd.google.colaboratory.intrinsic+json": {
              "type": "string"
            },
            "text/plain": [
              "'8.0.106'"
            ]
          },
          "execution_count": 11,
          "metadata": {},
          "output_type": "execute_result"
        }
      ],
      "source": [
        "import ultralytics\n",
        "ultralytics.__version__"
      ]
    },
    {
      "cell_type": "code",
      "execution_count": null,
      "id": "U97QpMrsaCLo",
      "metadata": {
        "id": "U97QpMrsaCLo"
      },
      "outputs": [],
      "source": [
        "!unzip /content/drive/MyDrive/animals.zip"
      ]
    },
    {
      "cell_type": "code",
      "execution_count": null,
      "id": "6d900238",
      "metadata": {
        "colab": {
          "background_save": true,
          "base_uri": "https://localhost:8080/"
        },
        "id": "6d900238",
        "outputId": "4ed51bf2-f9a6-41fa-a71a-2c789679a286"
      },
      "outputs": [
        {
          "name": "stderr",
          "output_type": "stream",
          "text": [
            "Ultralytics YOLOv8.0.106 🚀 Python-3.10.12 torch-2.2.1+cu121 CPU\n",
            "\n",
            "image 1/380 /content/drive/MyDrive/animals/train-animals/elephant-1/images/1.jpg: 640x640 1 elephant, 7150.6ms\n",
            "image 2/380 /content/drive/MyDrive/animals/train-animals/elephant-1/images/10.jpg: 640x640 2 persons, 4594.1ms\n"
          ]
        }
      ],
      "source": [
        "from ultralytics.yolo.data.annotator import auto_annotate\n",
        "\n",
        "auto_annotate(data=\"/content/drive/MyDrive/animals/train-animals/elephant-1/images\", det_model=\"yolov8x.pt\", sam_model='sam_l.pt')\n"
      ]
    },
    {
      "cell_type": "code",
      "execution_count": null,
      "id": "vNfiLls9-Xde",
      "metadata": {
        "id": "vNfiLls9-Xde"
      },
      "outputs": [],
      "source": [
        "!rm -rf /content/drive/MyDrive/animals/train-animals/elephant-1/labels"
      ]
    },
    {
      "cell_type": "code",
      "execution_count": null,
      "id": "Yk3lG85D-hWq",
      "metadata": {
        "id": "Yk3lG85D-hWq"
      },
      "outputs": [],
      "source": [
        "!mv /content/animals /content/drive/MyDrive"
      ]
    },
    {
      "cell_type": "code",
      "execution_count": null,
      "id": "5xJfbcuBd7G2",
      "metadata": {
        "id": "5xJfbcuBd7G2"
      },
      "outputs": [],
      "source": [
        "!rm -rf /content/drive/MyDrive/animals/train-animals/cow-1/labels"
      ]
    },
    {
      "cell_type": "code",
      "execution_count": null,
      "id": "5909a19b",
      "metadata": {
        "colab": {
          "base_uri": "https://localhost:8080/"
        },
        "id": "5909a19b",
        "outputId": "f265e1ab-51af-485a-fed6-faed2a8a75a3"
      },
      "outputs": [
        {
          "name": "stdout",
          "output_type": "stream",
          "text": [
            "Files have been updated.\n"
          ]
        }
      ],
      "source": [
        "import os\n",
        "\n",
        "# Function to process each file\n",
        "def process_file(file_path):\n",
        "    # Open the file for reading and writing\n",
        "    with open(file_path, 'r+') as file:\n",
        "        # Read lines from the file\n",
        "        lines = file.readlines()\n",
        "\n",
        "        # Move the cursor to the beginning of the file\n",
        "        file.seek(0)\n",
        "\n",
        "        # Iterate through each line\n",
        "        for line in lines:\n",
        "            # Check if the first character of the line is '0'\n",
        "            if line.startswith('16'):\n",
        "                # Write the line back to the file\n",
        "                file.write(line)\n",
        "\n",
        "        # Truncate the file to remove any remaining content\n",
        "        file.truncate()\n",
        "\n",
        "# Directory containing the text files\n",
        "directory = '/content/drive/MyDrive/animals/val-animals/dog-2/labels'\n",
        "\n",
        "# List all files in the directory\n",
        "files = os.listdir(directory)\n",
        "\n",
        "# Iterate through each file\n",
        "for file_name in files:\n",
        "    # Check if the file is a text file\n",
        "    if file_name.endswith('.txt'):\n",
        "        # Process the file\n",
        "        file_path = os.path.join(directory, file_name)\n",
        "        process_file(file_path)\n",
        "\n",
        "print(\"Files have been updated.\")\n"
      ]
    },
    {
      "cell_type": "code",
      "execution_count": null,
      "id": "1VFUE7gtCi5w",
      "metadata": {
        "id": "1VFUE7gtCi5w"
      },
      "outputs": [],
      "source": [
        "import os\n",
        "\n",
        "folder_path = '/content/drive/MyDrive/animals/val-animals/dog-2/labels'\n",
        "\n",
        "# Iterate over files in the folder\n",
        "for filename in os.listdir(folder_path):\n",
        "    file_path = os.path.join(folder_path, filename)\n",
        "\n",
        "    # Check if the file is empty\n",
        "    if os.path.isfile(file_path) and os.path.getsize(file_path) == 0:\n",
        "        # Remove the file if it's empty\n",
        "        os.remove(file_path)\n",
        "        print(f\"Removed empty file: {filename}\")\n"
      ]
    },
    {
      "cell_type": "code",
      "execution_count": null,
      "id": "Z48boNt198iI",
      "metadata": {
        "colab": {
          "base_uri": "https://localhost:8080/"
        },
        "id": "Z48boNt198iI",
        "outputId": "6946b01f-0920-48b2-f290-ea5a30bf0b4d"
      },
      "outputs": [
        {
          "name": "stdout",
          "output_type": "stream",
          "text": [
            "Enter the replacement number: 20\n"
          ]
        }
      ],
      "source": [
        "import os\n",
        "\n",
        "def change_first_number_in_folder(input_folder, output_folder, replacement_number):\n",
        "    # Ensure the replacement number is valid\n",
        "    if not isinstance(replacement_number, (int, float)):\n",
        "        print(\"Invalid replacement number. Please enter a valid number.\")\n",
        "        return\n",
        "\n",
        "    # Ensure the output folder exists, create if not\n",
        "    if not os.path.exists(output_folder):\n",
        "        os.makedirs(output_folder)\n",
        "\n",
        "    # Iterate through all files in the input folder\n",
        "    for filename in os.listdir(input_folder):\n",
        "        input_filepath = os.path.join(input_folder, filename)\n",
        "\n",
        "        # Skip if it's not a text file\n",
        "        if not filename.endswith('.txt'):\n",
        "            continue\n",
        "\n",
        "        output_filepath = os.path.join(output_folder, f\"{filename}\")\n",
        "\n",
        "        change_first_number(input_filepath, output_filepath, replacement_number)\n",
        "\n",
        "def change_first_number(input_file, output_file, replacement_number):\n",
        "    with open(input_file, 'r') as infile:\n",
        "        lines = infile.readlines()\n",
        "\n",
        "    modified_lines = []\n",
        "    for line in lines:\n",
        "        parts = line.split()\n",
        "        if parts and parts[0].isdigit():\n",
        "            parts[0] = str(replacement_number)  # Replace the first number with user input\n",
        "        modified_lines.append(' '.join(parts) + '\\n')\n",
        "\n",
        "    with open(output_file, 'w') as outfile:\n",
        "        outfile.writelines(modified_lines)\n",
        "\n",
        "# Example usage\n",
        "input_foldername = '/content/drive/MyDrive/animals/val-animals/dog-2/labels'  # Replace with your input folder name\n",
        "output_foldername = '/content/drive/MyDrive/animals/val-animals/dog-2/labels'  # Replace with your output folder name\n",
        "replacement_number = int(input(\"Enter the replacement number: \"))  # Accepts float or int\n",
        "\n",
        "change_first_number_in_folder(input_foldername, output_foldername, replacement_number)\n"
      ]
    },
    {
      "cell_type": "code",
      "execution_count": null,
      "id": "_PEHWjc7BRnV",
      "metadata": {
        "id": "_PEHWjc7BRnV"
      },
      "outputs": [],
      "source": [
        "import os\n",
        "\n",
        "def remove_images_without_text(image_folder, text_folder):\n",
        "    # Get the list of image filenames\n",
        "    image_files = os.listdir(image_folder)\n",
        "\n",
        "    # Get the list of text filenames\n",
        "    text_files = os.listdir(text_folder)\n",
        "\n",
        "    print(\"Image files:\", image_files)\n",
        "    print(\"Text files:\", text_files)\n",
        "\n",
        "    # Remove images without text files\n",
        "    for image_filename in image_files:\n",
        "        image_path = os.path.join(image_folder, image_filename)\n",
        "\n",
        "        # Check if the file is a regular file and if there's no corresponding text file\n",
        "        if os.path.isfile(image_path) and f\"{os.path.splitext(image_filename)[0]}.txt\" not in text_files:\n",
        "            os.remove(image_path)\n",
        "            print(f\"Removed {image_path}\")\n",
        "\n",
        "if __name__ == \"__main__\":\n",
        "    # Specify the paths to the image and text folders\n",
        "    image_folder_path = \"/content/drive/MyDrive/animals/val-animals/dog-2/images\"\n",
        "    text_folder_path = \"/content/drive/MyDrive/animals/val-animals/dog-2/labels\"\n",
        "\n",
        "    # Call the function to remove images without text files\n",
        "    remove_images_without_text(image_folder_path, text_folder_path)\n"
      ]
    },
    {
      "cell_type": "code",
      "execution_count": null,
      "id": "QqbOCrySc02y",
      "metadata": {
        "id": "QqbOCrySc02y"
      },
      "outputs": [],
      "source": [
        "!zip -r val-person-labels /content/labels"
      ]
    },
    {
      "cell_type": "code",
      "execution_count": null,
      "id": "H3dTxoqac7Uc",
      "metadata": {
        "id": "H3dTxoqac7Uc"
      },
      "outputs": [],
      "source": [
        "!rm -rf /content/images"
      ]
    }
  ],
  "metadata": {
    "colab": {
      "provenance": []
    },
    "kernelspec": {
      "display_name": "Python 3",
      "name": "python3"
    },
    "language_info": {
      "codemirror_mode": {
        "name": "ipython",
        "version": 3
      },
      "file_extension": ".py",
      "mimetype": "text/x-python",
      "name": "python",
      "nbconvert_exporter": "python",
      "pygments_lexer": "ipython3",
      "version": "3.9.10"
    }
  },
  "nbformat": 4,
  "nbformat_minor": 5
}